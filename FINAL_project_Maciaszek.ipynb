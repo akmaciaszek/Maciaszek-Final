{
 "cells": [
  {
   "cell_type": "markdown",
   "metadata": {},
   "source": [
    "# Final project\n",
    "\n",
    "**Can you escape a velociraptor?**\n",
    "\n",
    "Your goal is to figure out whether or not a velociraptor will catch you or if you can outrun it!\n",
    "\n",
    "## Problem 1. Position vs. time\n",
    "\n",
    "Suppose a velociraptor can run 18 m/s. And suppose you can run at 3 m/s, but you have a 30 meter head start. Assume that you and the 'raptor accelerate so quickly that you can ignore acceleration. \n",
    "\n",
    "Make a plot of the position vs. time for both you and the 'raptor (plot both on the same figure). Clearly label all axes and give the plot a legend. Plot over a suitable time frame. Save the figure as a .png file. \n",
    "\n",
    "*This plot will be included in your write-up*."
   ]
  },
  {
   "cell_type": "code",
   "execution_count": 7,
   "metadata": {
    "collapsed": false
   },
   "outputs": [
    {
     "data": {
      "image/png": "[encoded data removed]",
      "text/plain": [
       "<matplotlib.figure.Figure at 0xa5e0ba8>"
      ]
     },
     "metadata": {},
     "output_type": "display_data"
    }
   ],
   "source": [
    "%matplotlib inline\n",
    "import numpy as np\n",
    "import matplotlib.pyplot as plt\n",
    "\n",
    "fig = plt.figure()\n",
    "ax = fig.add_subplot(111)\n",
    "\n",
    "x=np.linspace(0,2.5,10)\n",
    "hum_pt=3*x+30\n",
    "vel_pt=18*x\n",
    "line, = ax.plot(x,hum_pt, label= 'Me')\n",
    "line, = ax.plot(x,vel_pt, label= 'Raptor')\n",
    "plt.xlabel('Time', fontsize=18)\n",
    "plt.ylabel('Position', fontsize=16)\n",
    "plt.title('Time Versus Position of a Raptor After Me')\n",
    "\n",
    "ax.set_ylim(0,50)\n",
    "plt.legend()\n",
    "plt.show()"
   ]
  },
  {
   "cell_type": "markdown",
   "metadata": {},
   "source": [
    "## Problem 2. When does the 'raptor catch up to you?\n",
    "\n",
    "Use your code to figure out when the raptor catches up to you. Both how much time has passed and how far *you* have run.  \n",
    "\n",
    "Do not just get this information off the graph. Use your Python code to figure this out! Getting the information just by looking at the plot will result in a 0 for this question. You can use an analytic approach (algebra) to check your answer, but that is not the approach I want you to use. Depending on how you write your code, you might not get an *exact* answer, but you should find a way to get pretty close to the algebraic solution. "
   ]
  },
  {
   "cell_type": "code",
   "execution_count": 11,
   "metadata": {
    "collapsed": false
   },
   "outputs": [
    {
     "name": "stdout",
     "output_type": "stream",
     "text": [
      "The raptor will catch up to me in 2.000000 seconds\n",
      "The distance that I run is 6.000000 meters\n"
     ]
    }
   ],
   "source": [
    "t=0\n",
    "while t<2:\n",
    "    if 18*t>=3*t+30:\n",
    "        break\n",
    "    else:\n",
    "        t+=float(.00001)\n",
    "\n",
    "print 'The raptor will catch up to me in %f seconds' %t\n",
    "\n",
    "finaldist=3*t+30\n",
    "initialdist=3*0+30\n",
    "dist=finaldist-initialdist\n",
    "print 'The distance that I run is %f meters' %dist"
   ]
  },
  {
   "cell_type": "markdown",
   "metadata": {},
   "source": [
    "## Problem 3. When is it close enough to strike?\n",
    "\n",
    "It turns out the 'raptor will start trying to attack when it is 1 meter away. How much time has passed and how far have you run when it is 1 meter behind you? Use a similar approach as the last problem. \n",
    "\n",
    "***Also make a new copy of the above plot, but label (with a line or arrow or whatever you want) the point at which the raptor is 1 meter behind you.***"
   ]
  },
  {
   "cell_type": "code",
   "execution_count": 10,
   "metadata": {
    "collapsed": false
   },
   "outputs": [
    {
     "name": "stdout",
     "output_type": "stream",
     "text": [
      "The raptor will catch up to me in 1.933340 seconds\n",
      "The distance that I run is 5.800020 meters\n"
     ]
    },
    {
     "data": {
      "image/png": "[encoded data removed]",
      "text/plain": [
       "<matplotlib.figure.Figure at 0x40298d0>"
      ]
     },
     "metadata": {},
     "output_type": "display_data"
    }
   ],
   "source": [
    "t=0\n",
    "while t<2:\n",
    "    if 18*t+1>=3*t+30:\n",
    "        break\n",
    "    else:\n",
    "        t+=float(.00001)\n",
    "\n",
    "print 'The raptor will catch up to me in %f seconds' %t\n",
    "\n",
    "finaldist=3*t+30\n",
    "initialdist=3*0+30\n",
    "dist=finaldist-initialdist\n",
    "print 'The distance that I run is %f meters' %dist\n",
    "\n",
    "\n",
    "fig = plt.figure()\n",
    "ax = fig.add_subplot(111)\n",
    "\n",
    "x=np.linspace(0,2.5,10)\n",
    "hum_pt=3*x+30\n",
    "vel_pt=18*x\n",
    "line, = ax.plot(x,hum_pt, label= 'Me')\n",
    "line, = ax.plot(x,vel_pt, label= 'Raptor')\n",
    "plt.xlabel('Time', fontsize=18)\n",
    "plt.ylabel('Position', fontsize=16)\n",
    "plt.title('Time Versus Position of a Raptor After Me')\n",
    "\n",
    "ax.annotate('Where Attacks', xy=(j, 3*j+30), xytext=(2, .5),\n",
    "            arrowprops=dict(facecolor='black', shrink=0.05),\n",
    "            )\n",
    "\n",
    "ax.set_ylim(0,50)\n",
    "plt.legend()\n",
    "plt.show()"
   ]
  },
  {
   "cell_type": "markdown",
   "metadata": {},
   "source": [
    "## Problem 4. Will it bite you?\n",
    "\n",
    "When the 'raptor is 1 meter away, it will try to bite you. If it doesn't bite you, it will try a second and (if necessary) a third time. If it doesn't get you on the third try, it will grow frustrated and stop chasing you. Hurray!\n",
    "\n",
    "Suppose the first time it tries, there is a 20% chance it will bite you. If it misses and it needs to try a second time, there is only a 15% chance, and if it misses *that* time, there is only a 7% chance on the third try. \n",
    "\n",
    "If it bites you once, you're 'raptor food. If it misses all three times, you get away!\n",
    "\n",
    "What is the probability that you will get away?\n"
   ]
  },
  {
   "cell_type": "code",
   "execution_count": 9,
   "metadata": {
    "collapsed": false
   },
   "outputs": [
    {
     "name": "stdout",
     "output_type": "stream",
     "text": [
      "The probability I will survive all the attacks is 63.243951 percent\n"
     ]
    }
   ],
   "source": [
    "numpe=100000000 #number of people in simulation\n",
    "bite1=np.random.binomial(1, .8, numpe)#this function give a random 1 or 0 based on the probablity given\n",
    "live1=np.count_nonzero(bite1)#this counts the number of not zeros menaing 1s\n",
    "bite2=np.random.binomial(1, .85, live1)\n",
    "live2=np.count_nonzero(bite2)\n",
    "bite3=np.random.binomial(1, .93, live2)\n",
    "live3=np.count_nonzero(bite3)\n",
    "alive=(float(live3)/numpe)*100\n",
    "print 'The probability I will survive all the attacks is %s percent' %alive"
   ]
  },
  {
   "cell_type": "code",
   "execution_count": null,
   "metadata": {
    "collapsed": true
   },
   "outputs": [],
   "source": []
  }
 ],
 "metadata": {
  "kernelspec": {
   "display_name": "Python 2",
   "language": "python",
   "name": "python2"
  },
  "language_info": {
   "codemirror_mode": {
    "name": "ipython",
    "version": 2
   },
   "file_extension": ".py",
   "mimetype": "text/x-python",
   "name": "python",
   "nbconvert_exporter": "python",
   "pygments_lexer": "ipython2",
   "version": "2.7.10"
  }
 },
 "nbformat": 4,
 "nbformat_minor": 0
}
